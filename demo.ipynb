{
 "cells": [
  {
   "cell_type": "markdown",
   "metadata": {},
   "source": [
    "# Python Testing Demo\n",
    "\n",
    "## Why testing is valuable in Python\n",
    "\n",
    "## Different methods and packages for testing in Python\n",
    "\n",
    "## Some tips & tricks\n",
    "\n",
    "## Some gotchas"
   ]
  },
  {
   "cell_type": "markdown",
   "metadata": {},
   "source": [
    "## Why testing is valuable in Python\n",
    "\n",
    "- Proof that you delivered what was expected from you\n",
    "- Prevent unexpected behavior\n",
    "- Document both the functionality as well as the behavior of the code\n",
    "- Make sure that what worked still works after code changes\n"
   ]
  },
  {
   "cell_type": "code",
   "execution_count": 1,
   "metadata": {},
   "outputs": [
    {
     "name": "stdout",
     "output_type": "stream",
     "text": [
      "You should get this text back!\n"
     ]
    }
   ],
   "source": [
    "def function_that_returns_text(text: str):\n",
    "    if isinstance(text, str):\n",
    "        return text\n",
    "    else:\n",
    "        raise ValueError(f\"Input did not have a '{str}' type, but '{type(text)}'!\")\n",
    "\n",
    "print(function_that_returns_text(\"You should get this text back!\"))"
   ]
  },
  {
   "cell_type": "markdown",
   "metadata": {},
   "source": [
    "This code does exactly what it says it does, but you *proof* that it will by using tests to describe its behavior."
   ]
  },
  {
   "cell_type": "code",
   "execution_count": 2,
   "metadata": {},
   "outputs": [
    {
     "name": "stdout",
     "output_type": "stream",
     "text": [
      "Requirement already satisfied: ipytest in ./.venv/lib/python3.12/site-packages (0.14.2)\n",
      "Requirement already satisfied: ipython in ./.venv/lib/python3.12/site-packages (from ipytest) (8.25.0)\n",
      "Requirement already satisfied: packaging in ./.venv/lib/python3.12/site-packages (from ipytest) (24.1)\n",
      "Requirement already satisfied: pytest>=5.4 in ./.venv/lib/python3.12/site-packages (from ipytest) (8.2.2)\n",
      "Requirement already satisfied: iniconfig in ./.venv/lib/python3.12/site-packages (from pytest>=5.4->ipytest) (2.0.0)\n",
      "Requirement already satisfied: pluggy<2.0,>=1.5 in ./.venv/lib/python3.12/site-packages (from pytest>=5.4->ipytest) (1.5.0)\n",
      "Requirement already satisfied: decorator in ./.venv/lib/python3.12/site-packages (from ipython->ipytest) (5.1.1)\n",
      "Requirement already satisfied: jedi>=0.16 in ./.venv/lib/python3.12/site-packages (from ipython->ipytest) (0.19.1)\n",
      "Requirement already satisfied: matplotlib-inline in ./.venv/lib/python3.12/site-packages (from ipython->ipytest) (0.1.7)\n",
      "Requirement already satisfied: prompt-toolkit<3.1.0,>=3.0.41 in ./.venv/lib/python3.12/site-packages (from ipython->ipytest) (3.0.47)\n",
      "Requirement already satisfied: pygments>=2.4.0 in ./.venv/lib/python3.12/site-packages (from ipython->ipytest) (2.18.0)\n",
      "Requirement already satisfied: stack-data in ./.venv/lib/python3.12/site-packages (from ipython->ipytest) (0.6.3)\n",
      "Requirement already satisfied: traitlets>=5.13.0 in ./.venv/lib/python3.12/site-packages (from ipython->ipytest) (5.14.3)\n",
      "Requirement already satisfied: pexpect>4.3 in ./.venv/lib/python3.12/site-packages (from ipython->ipytest) (4.9.0)\n",
      "Requirement already satisfied: parso<0.9.0,>=0.8.3 in ./.venv/lib/python3.12/site-packages (from jedi>=0.16->ipython->ipytest) (0.8.4)\n",
      "Requirement already satisfied: ptyprocess>=0.5 in ./.venv/lib/python3.12/site-packages (from pexpect>4.3->ipython->ipytest) (0.7.0)\n",
      "Requirement already satisfied: wcwidth in ./.venv/lib/python3.12/site-packages (from prompt-toolkit<3.1.0,>=3.0.41->ipython->ipytest) (0.2.13)\n",
      "Requirement already satisfied: executing>=1.2.0 in ./.venv/lib/python3.12/site-packages (from stack-data->ipython->ipytest) (2.0.1)\n",
      "Requirement already satisfied: asttokens>=2.1.0 in ./.venv/lib/python3.12/site-packages (from stack-data->ipython->ipytest) (2.4.1)\n",
      "Requirement already satisfied: pure-eval in ./.venv/lib/python3.12/site-packages (from stack-data->ipython->ipytest) (0.2.2)\n",
      "Requirement already satisfied: six>=1.12.0 in ./.venv/lib/python3.12/site-packages (from asttokens>=2.1.0->stack-data->ipython->ipytest) (1.16.0)\n"
     ]
    }
   ],
   "source": [
    "# Set up PyTest\n",
    "!pip install ipytest\n",
    "import ipytest\n",
    "ipytest.autoconfig()"
   ]
  },
  {
   "cell_type": "code",
   "execution_count": 3,
   "metadata": {},
   "outputs": [],
   "source": [
    "def test_str():\n",
    "    assert function_that_returns_text(\"You should see this text!\") == \"You should see this text!\"\n",
    "\n",
    "def test_int_as_str():\n",
    "    assert function_that_returns_text(\"15\") == \"15\"\n",
    "\n",
    "def test_int():\n",
    "    assert function_that_returns_text(15) == \"15\""
   ]
  },
  {
   "cell_type": "code",
   "execution_count": 4,
   "metadata": {},
   "outputs": [
    {
     "name": "stdout",
     "output_type": "stream",
     "text": [
      "\u001b[1m======================================= test session starts ========================================\u001b[0m\n",
      "platform linux -- Python 3.12.3, pytest-8.2.2, pluggy-1.5.0 -- /workspaces/python-testing-demo/.venv/bin/python\n",
      "cachedir: .pytest_cache\n",
      "rootdir: /workspaces/python-testing-demo\n",
      "configfile: pyproject.toml\n",
      "plugins: anyio-4.4.0\n",
      "\u001b[1mcollecting ... \u001b[0mcollected 3 items\n",
      "\n",
      "t_68541e827e4647818ea4c8724c7d6f58.py::test_str \u001b[32mPASSED\u001b[0m\u001b[32m                                       [ 33%]\u001b[0m\n",
      "t_68541e827e4647818ea4c8724c7d6f58.py::test_int_as_str \u001b[32mPASSED\u001b[0m\u001b[32m                                [ 66%]\u001b[0m\n",
      "t_68541e827e4647818ea4c8724c7d6f58.py::test_int \u001b[31mFAILED\u001b[0m\u001b[31m                                       [100%]\u001b[0m\n",
      "\n",
      "============================================= FAILURES =============================================\n",
      "\u001b[31m\u001b[1m_____________________________________________ test_int _____________________________________________\u001b[0m\n",
      "\n",
      "    \u001b[0m\u001b[94mdef\u001b[39;49;00m \u001b[92mtest_int\u001b[39;49;00m():\u001b[90m\u001b[39;49;00m\n",
      ">       \u001b[94massert\u001b[39;49;00m function_that_returns_text(\u001b[94m15\u001b[39;49;00m) == \u001b[33m\"\u001b[39;49;00m\u001b[33m15\u001b[39;49;00m\u001b[33m\"\u001b[39;49;00m\u001b[90m\u001b[39;49;00m\n",
      "\n",
      "\u001b[1m\u001b[31m/tmp/ipykernel_13273/1366318873.py\u001b[0m:8: \n",
      "_ _ _ _ _ _ _ _ _ _ _ _ _ _ _ _ _ _ _ _ _ _ _ _ _ _ _ _ _ _ _ _ _ _ _ _ _ _ _ _ _ _ _ _ _ _ _ _ _ _ \n",
      "\n",
      "text = 15\n",
      "\n",
      "    \u001b[0m\u001b[94mdef\u001b[39;49;00m \u001b[92mfunction_that_returns_text\u001b[39;49;00m(text: \u001b[96mstr\u001b[39;49;00m):\u001b[90m\u001b[39;49;00m\n",
      "        \u001b[94mif\u001b[39;49;00m \u001b[96misinstance\u001b[39;49;00m(text, \u001b[96mstr\u001b[39;49;00m):\u001b[90m\u001b[39;49;00m\n",
      "            \u001b[94mreturn\u001b[39;49;00m text\u001b[90m\u001b[39;49;00m\n",
      "        \u001b[94melse\u001b[39;49;00m:\u001b[90m\u001b[39;49;00m\n",
      ">           \u001b[94mraise\u001b[39;49;00m \u001b[96mValueError\u001b[39;49;00m(\u001b[33mf\u001b[39;49;00m\u001b[33m\"\u001b[39;49;00m\u001b[33mInput did not have a \u001b[39;49;00m\u001b[33m'\u001b[39;49;00m\u001b[33m{\u001b[39;49;00m\u001b[96mstr\u001b[39;49;00m\u001b[33m}\u001b[39;49;00m\u001b[33m'\u001b[39;49;00m\u001b[33m type, but \u001b[39;49;00m\u001b[33m'\u001b[39;49;00m\u001b[33m{\u001b[39;49;00m\u001b[96mtype\u001b[39;49;00m(text)\u001b[33m}\u001b[39;49;00m\u001b[33m'\u001b[39;49;00m\u001b[33m!\u001b[39;49;00m\u001b[33m\"\u001b[39;49;00m)\u001b[90m\u001b[39;49;00m\n",
      "\u001b[1m\u001b[31mE           ValueError: Input did not have a '<class 'str'>' type, but '<class 'int'>'!\u001b[0m\n",
      "\n",
      "\u001b[1m\u001b[31m/tmp/ipykernel_13273/454525080.py\u001b[0m:5: ValueError\n",
      "\u001b[36m\u001b[1m===================================== short test summary info ======================================\u001b[0m\n",
      "\u001b[31mFAILED\u001b[0m t_68541e827e4647818ea4c8724c7d6f58.py::\u001b[1mtest_int\u001b[0m - ValueError: Input did not have a '<class 'str'>' type, but '<class 'int'>'!\n",
      "\u001b[31m=================================== \u001b[31m\u001b[1m1 failed\u001b[0m, \u001b[32m2 passed\u001b[0m\u001b[31m in 0.14s\u001b[0m\u001b[31m ====================================\u001b[0m\n"
     ]
    },
    {
     "data": {
      "text/plain": [
       "<ExitCode.TESTS_FAILED: 1>"
      ]
     },
     "execution_count": 4,
     "metadata": {},
     "output_type": "execute_result"
    }
   ],
   "source": [
    "ipytest.run('-vv')"
   ]
  },
  {
   "cell_type": "markdown",
   "metadata": {},
   "source": [
    "### HTTP Responses\n",
    "\n",
    "Sometimes you'll need to verify that certain HTTP requests contain specific data, i.e. to verify certain third-party behavior. You can catch and expose HTTP request data with the following code."
   ]
  },
  {
   "cell_type": "code",
   "execution_count": 5,
   "metadata": {},
   "outputs": [],
   "source": [
    "\n",
    "import logging\n",
    "import pytest\n",
    "\n",
    "@pytest.fixture\n",
    "def debug_http(scope=\"module\", autouse=False):\n",
    "    \"\"\"\n",
    "    Catches all out-going HTTP calls and prints them in the console.\n",
    "    Use `autouse=True` to automatically use it in every test which imports this conftest.py file.\n",
    "    \"\"\"\n",
    "    import http.client as http_client\n",
    "\n",
    "    http_client.HTTPConnection.debuglevel = 1\n",
    "    logging.basicConfig()\n",
    "    logging.getLogger(\"debug_http\").setLevel(logging.DEBUG)\n",
    "    requests_log = logging.getLogger(\"requests.packages.urllib3\")\n",
    "    requests_log.setLevel(logging.DEBUG)\n",
    "    requests_log.propagate = True"
   ]
  },
  {
   "cell_type": "code",
   "execution_count": 6,
   "metadata": {},
   "outputs": [
    {
     "name": "stdout",
     "output_type": "stream",
     "text": [
      "\u001b[1m======================================= test session starts ========================================\u001b[0m\n",
      "platform linux -- Python 3.12.3, pytest-8.2.2, pluggy-1.5.0 -- /workspaces/python-testing-demo/.venv/bin/python\n",
      "cachedir: .pytest_cache\n",
      "rootdir: /workspaces/python-testing-demo\n",
      "configfile: pyproject.toml\n",
      "plugins: anyio-4.4.0\n",
      "\u001b[1mcollecting ... \u001b[0mcollected 1 item\n",
      "\n",
      "t_68541e827e4647818ea4c8724c7d6f58.py::test_http_logs_are_not_catched \u001b[32mPASSED\u001b[0m\u001b[32m                 [100%]\u001b[0m\n",
      "\n",
      "\u001b[32m======================================== \u001b[32m\u001b[1m1 passed\u001b[0m\u001b[32m in 0.08s\u001b[0m\u001b[32m =========================================\u001b[0m\n"
     ]
    },
    {
     "data": {
      "text/plain": [
       "<ExitCode.OK: 0>"
      ]
     },
     "execution_count": 6,
     "metadata": {},
     "output_type": "execute_result"
    },
    {
     "name": "stdout",
     "output_type": "stream",
     "text": [
      "\u001b[1m======================================= test session starts ========================================\u001b[0m\n",
      "platform linux -- Python 3.12.3, pytest-8.2.2, pluggy-1.5.0 -- /workspaces/python-testing-demo/.venv/bin/python\n",
      "cachedir: .pytest_cache\n",
      "rootdir: /workspaces/python-testing-demo\n",
      "configfile: pyproject.toml\n",
      "plugins: anyio-4.4.0\n",
      "\u001b[1mcollecting ... \u001b[0mcollected 1 item\n",
      "\n",
      "t_68541e827e4647818ea4c8724c7d6f58.py::test_http_logs_are_not_catched <- ../../tmp/ipykernel_13273/106178705.py \n",
      "\u001b[32mPASSED\u001b[0m\n",
      "\n",
      "\u001b[32m======================================== \u001b[32m\u001b[1m1 passed\u001b[0m\u001b[32m in 0.07s\u001b[0m\u001b[32m =========================================\u001b[0m\n"
     ]
    }
   ],
   "source": [
    "%%ipytest -s -vvv -k test_http_logs_are_not_catched\n",
    "import requests\n",
    "\n",
    "def test_http_logs_are_not_catched(\n",
    "    capsys,\n",
    "):\n",
    "    requests.get(\"https://www.google.com/\")\n",
    "\n",
    "    out, err = capsys.readouterr()\n",
    "    print(out)\n",
    "    assert \"reply: 'HTTP/1.1 200 OK\\r\\n'\" not in out\n",
    "\n",
    "ipytest.run('-vv')"
   ]
  },
  {
   "cell_type": "code",
   "execution_count": 7,
   "metadata": {},
   "outputs": [
    {
     "name": "stdout",
     "output_type": "stream",
     "text": [
      "\u001b[1m======================================= test session starts ========================================\u001b[0m\n",
      "platform linux -- Python 3.12.3, pytest-8.2.2, pluggy-1.5.0 -- /workspaces/python-testing-demo/.venv/bin/python\n",
      "cachedir: .pytest_cache\n",
      "rootdir: /workspaces/python-testing-demo\n",
      "configfile: pyproject.toml\n",
      "plugins: anyio-4.4.0\n",
      "\u001b[1mcollecting ... \u001b[0mcollected 1 item\n",
      "\n",
      "t_68541e827e4647818ea4c8724c7d6f58.py::test_http_logs_are_catched \u001b[32mPASSED\u001b[0m\u001b[32m                     [100%]\u001b[0m\n",
      "\n",
      "\u001b[32m======================================== \u001b[32m\u001b[1m1 passed\u001b[0m\u001b[32m in 0.09s\u001b[0m\u001b[32m =========================================\u001b[0m\n"
     ]
    },
    {
     "data": {
      "text/plain": [
       "<ExitCode.OK: 0>"
      ]
     },
     "execution_count": 7,
     "metadata": {},
     "output_type": "execute_result"
    },
    {
     "name": "stdout",
     "output_type": "stream",
     "text": [
      "\u001b[1m======================================= test session starts ========================================\u001b[0m\n",
      "platform linux -- Python 3.12.3, pytest-8.2.2, pluggy-1.5.0 -- /workspaces/python-testing-demo/.venv/bin/python\n",
      "cachedir: .pytest_cache\n",
      "rootdir: /workspaces/python-testing-demo\n",
      "configfile: pyproject.toml\n",
      "plugins: anyio-4.4.0\n",
      "\u001b[1mcollecting ... \u001b[0mcollected 1 item\n",
      "\n",
      "t_68541e827e4647818ea4c8724c7d6f58.py::test_http_logs_are_catched <- ../../tmp/ipykernel_13273/1854283910.py send: b'GET / HTTP/1.1\\r\\nHost: www.google.com\\r\\nUser-Agent: python-requests/2.32.3\\r\\nAccept-Encoding: gzip, deflate\\r\\nAccept: */*\\r\\nConnection: keep-alive\\r\\n\\r\\n'\n",
      "reply: 'HTTP/1.1 200 OK\\r\\n'\n",
      "header: Date: Tue, 25 Jun 2024 12:36:11 GMT\n",
      "header: Expires: -1\n",
      "header: Cache-Control: private, max-age=0\n",
      "header: Content-Type: text/html; charset=ISO-8859-1\n",
      "header: Content-Security-Policy-Report-Only: object-src 'none';base-uri 'self';script-src 'nonce-proj3tZ9XwJ1ffFdrD75jg' 'strict-dynamic' 'report-sample' 'unsafe-eval' 'unsafe-inline' https: http:;report-uri https://csp.withgoogle.com/csp/gws/other-hp\n",
      "header: P3P: CP=\"This is not a P3P policy! See g.co/p3phelp for more info.\"\n",
      "header: Content-Encoding: gzip\n",
      "header: Server: gws\n",
      "header: X-XSS-Protection: 0\n",
      "header: X-Frame-Options: SAMEORIGIN\n",
      "header: Set-Cookie: SOCS=CAAaBgiAkeizBg; expires=Fri, 25-Jul-2025 12:36:11 GMT; path=/; domain=.google.com; Secure; SameSite=lax\n",
      "header: Set-Cookie: AEC=AQTF6HyXqzE-ccmkkN8RiSl_K6V72I0kfBX4iF3cWtdqafhVIW5rcC-MZQ; expires=Sun, 22-Dec-2024 12:36:11 GMT; path=/; domain=.google.com; Secure; HttpOnly; SameSite=lax\n",
      "header: Set-Cookie: __Secure-ENID=20.SE=bwy31bvDJpLLVjGS3hjVQiLT35LL8n5tb0NaIoQLLL0DBv08uGrCPQpwJOg1J8WSaJqyfr9c_LWwDicfzAP3SbLzb2jLO8WwYq2xJq4Rrh_MPcrYHcRpNLbWzIwPSAdpLWl-0UgqzcFdZk5es-c5pz9SGuUtH7JlIY2-ejtW2pwPnmUOmBrd2UgF5Zw7-0ZO2d8pc8SpQNePV-qxQA; expires=Sat, 26-Jul-2025 04:54:29 GMT; path=/; domain=.google.com; Secure; HttpOnly; SameSite=lax\n",
      "header: Alt-Svc: h3=\":443\"; ma=2592000,h3-29=\":443\"; ma=2592000\n",
      "header: Transfer-Encoding: chunked\n",
      "\n",
      "\u001b[32mPASSED\u001b[0m\n",
      "\n",
      "\u001b[32m======================================== \u001b[32m\u001b[1m1 passed\u001b[0m\u001b[32m in 0.07s\u001b[0m\u001b[32m =========================================\u001b[0m\n"
     ]
    }
   ],
   "source": [
    "%%ipytest -s -vvv -k test_http_logs_are_catched\n",
    "\n",
    "def test_http_logs_are_catched(\n",
    "    debug_http,\n",
    "    capsys,\n",
    "):\n",
    "    requests.get(\"https://www.google.com/\")\n",
    "\n",
    "    out, err = capsys.readouterr()\n",
    "    print(out)\n",
    "    assert \"reply: 'HTTP/1.1 200 OK\\r\\n'\" not in out\n",
    "ipytest.run('-vv')"
   ]
  }
 ],
 "metadata": {
  "kernelspec": {
   "display_name": ".venv",
   "language": "python",
   "name": "python3"
  },
  "language_info": {
   "codemirror_mode": {
    "name": "ipython",
    "version": 3
   },
   "file_extension": ".py",
   "mimetype": "text/x-python",
   "name": "python",
   "nbconvert_exporter": "python",
   "pygments_lexer": "ipython3",
   "version": "3.12.3"
  }
 },
 "nbformat": 4,
 "nbformat_minor": 2
}
