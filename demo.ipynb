{
 "cells": [
  {
   "cell_type": "markdown",
   "metadata": {},
   "source": [
    "# Python Testing Demo\n",
    "\n",
    "## Why testing is valuable in Python\n",
    "\n",
    "## Different methods and packages for testing in Python\n",
    "\n",
    "## Some tips & tricks\n",
    "\n",
    "## Some gotchas"
   ]
  },
  {
   "cell_type": "markdown",
   "metadata": {},
   "source": [
    "## Why testing is valuable in Python\n",
    "\n",
    "- Proof that you delivered what was expected from you\n",
    "- Prevent unexpected behavior\n",
    "- Document both the functionality as well as the behavior of the code\n",
    "- Make sure that what worked still works after code changes\n"
   ]
  },
  {
   "cell_type": "code",
   "execution_count": null,
   "metadata": {},
   "outputs": [],
   "source": [
    "# /python_testing_demo/some_module_file.py\n",
    "\n",
    "def function_that_returns_text(text: str):\n",
    "    if isinstance(text, str):\n",
    "        return text\n",
    "    else:\n",
    "        raise ValueError(f\"Input did not have a '{str}' type, but '{type(text)}'!\")\n",
    "\n",
    "print(function_that_returns_text(\"You should get this text back!\"))"
   ]
  },
  {
   "cell_type": "markdown",
   "metadata": {},
   "source": [
    "This code does exactly what it says it does, but you *proof* that it will by using tests to describe its behavior."
   ]
  },
  {
   "cell_type": "code",
   "execution_count": null,
   "metadata": {},
   "outputs": [],
   "source": [
    "# Set up PyTest\n",
    "!pip install ipytest\n",
    "import ipytest\n",
    "ipytest.autoconfig()"
   ]
  },
  {
   "cell_type": "code",
   "execution_count": null,
   "metadata": {},
   "outputs": [],
   "source": [
    "# /tests/some_tests_file.py\n",
    "def test_str():\n",
    "    assert function_that_returns_text(\"You should see this text!\") == \"You should see this text!\"\n",
    "\n",
    "def test_int_as_str():\n",
    "    assert function_that_returns_text(\"15\") == \"15\"\n",
    "\n",
    "def test_int():\n",
    "    assert function_that_returns_text(15) == \"15\""
   ]
  },
  {
   "cell_type": "code",
   "execution_count": null,
   "metadata": {},
   "outputs": [],
   "source": [
    "ipytest.run('-vv')"
   ]
  },
  {
   "cell_type": "markdown",
   "metadata": {},
   "source": [
    "### HTTP Responses\n",
    "\n",
    "Sometimes you'll need to verify that certain HTTP requests contain specific data, i.e. to verify certain third-party behavior. You can catch and expose HTTP request data with the following code."
   ]
  },
  {
   "cell_type": "code",
   "execution_count": null,
   "metadata": {},
   "outputs": [],
   "source": [
    "\n",
    "# /tests/conftest.py\n",
    "import logging\n",
    "import pytest\n",
    "\n",
    "@pytest.fixture\n",
    "def debug_http(scope=\"module\", autouse=False):\n",
    "    \"\"\"\n",
    "    Catches all out-going HTTP calls and prints them in the console.\n",
    "    Use `autouse=True` to automatically use it in every test which imports this conftest.py file.\n",
    "    \"\"\"\n",
    "    import http.client as http_client\n",
    "\n",
    "    http_client.HTTPConnection.debuglevel = 1\n",
    "    logging.basicConfig()\n",
    "    logging.getLogger(\"debug_http\").setLevel(logging.DEBUG)\n",
    "    requests_log = logging.getLogger(\"requests.packages.urllib3\")\n",
    "    requests_log.setLevel(logging.DEBUG)\n",
    "    requests_log.propagate = True"
   ]
  },
  {
   "cell_type": "code",
   "execution_count": null,
   "metadata": {},
   "outputs": [],
   "source": [
    "# /tests/some_tests_file.py\n",
    "%%ipytest -s -vvv -k test_http_logs_are_not_catched\n",
    "import requests\n",
    "\n",
    "def test_http_logs_are_not_catched(\n",
    "    capsys,\n",
    "):\n",
    "    requests.get(\"https://www.google.com/\")\n",
    "\n",
    "    out, err = capsys.readouterr()\n",
    "    print(out)\n",
    "    assert \"reply: 'HTTP/1.1 200 OK\\r\\n'\" not in out\n",
    "\n",
    "ipytest.run('-vv')"
   ]
  },
  {
   "cell_type": "code",
   "execution_count": null,
   "metadata": {},
   "outputs": [],
   "source": [
    "# /tests/some_tests_file.py\n",
    "%%ipytest -s -vvv -k test_http_logs_are_catched\n",
    "\n",
    "def test_http_logs_are_catched(\n",
    "    debug_http,\n",
    "    capsys,\n",
    "):\n",
    "    requests.get(\"https://www.google.com/\")\n",
    "\n",
    "    out, err = capsys.readouterr()\n",
    "    print(out)\n",
    "    assert \"reply: 'HTTP/1.1 200 OK\\r\\n'\" not in out\n",
    "\n",
    "ipytest.run('-vv')"
   ]
  },
  {
   "cell_type": "code",
   "execution_count": null,
   "metadata": {},
   "outputs": [],
   "source": [
    "# /tests/conftest.py\n",
    "import pytest\n",
    "def pytest_configure():\n",
    "    \"\"\"\n",
    "    Set up pytest global variables.\n",
    "    \"\"\"\n",
    "    pytest.GLOBAL_TEST_VARIABLE = \"test global variable\""
   ]
  },
  {
   "cell_type": "code",
   "execution_count": null,
   "metadata": {},
   "outputs": [],
   "source": [
    "%%ipytest -k test_should_have_access_to_global_variable\n",
    "\n",
    "# /tests/some_tests_file.py\n",
    "import pytest\n",
    "\n",
    "\n",
    "# TODO: Test fails, might need to move everything to actual tests/ folder and then execute/include from here?\n",
    "def test_should_have_access_to_global_variable():\n",
    "    assert pytest.GLOBAL_TEST_VARIABLE == \"test global variable\"\n",
    "\n",
    "ipytest.run('-vv')"
   ]
  }
 ],
 "metadata": {
  "kernelspec": {
   "display_name": ".venv",
   "language": "python",
   "name": "python3"
  },
  "language_info": {
   "codemirror_mode": {
    "name": "ipython",
    "version": 3
   },
   "file_extension": ".py",
   "mimetype": "text/x-python",
   "name": "python",
   "nbconvert_exporter": "python",
   "pygments_lexer": "ipython3",
   "version": "3.12.3"
  }
 },
 "nbformat": 4,
 "nbformat_minor": 2
}
