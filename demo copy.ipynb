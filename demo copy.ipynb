{
    "cells": [
        {
            "cell_type": "markdown",
            "metadata": {
                "slideshow": {
                    "slide_type": "slide"
                }
            },
            "source": [
                "# Python Testing Demo\n",
                "\n",
                "## Why testing is valuable in Python\n",
                "\n",
                "## Different methods and packages for testing in Python\n",
                "\n",
                "## Some tips & tricks\n",
                "\n",
                "## Some gotchas"
            ]
        },
        {
            "cell_type": "markdown",
            "metadata": {
                "slideshow": {
                    "slide_type": "slide"
                }
            },
            "source": [
                "## Why testing is valuable in Python\n",
                "\n",
                "- Proof that you delivered what was expected from you\n",
                "- Prevent unexpected behavior\n",
                "- Document both the functionality as well as the behavior of the code\n",
                "- Make sure that what worked still works after code changes\n"
            ]
        },
        {
            "cell_type": "code",
            "execution_count": null,
            "metadata": {
                "slideshow": {
                    "slide_type": "fragment"
                }
            },
            "outputs": [],
            "source": [
                "# /python_testing_demo/some_module_file.py\n",
                "\n",
                "def function_that_returns_text(text: str):\n",
                "    if isinstance(text, str):\n",
                "        return text\n",
                "    else:\n",
                "        raise ValueError(f\"Input did not have a '{str}' type, but '{type(text)}'!\")\n",
                "\n",
                "print(function_that_returns_text(\"You should get this text back!\"))"
            ]
        },
        {
            "cell_type": "markdown",
            "metadata": {
                "slideshow": {
                    "slide_type": "fragment"
                }
            },
            "source": [
                "This code does exactly what it says it does, but you *proof* that it will by using tests to describe its behavior."
            ]
        },
        {
            "cell_type": "code",
            "execution_count": null,
            "metadata": {
                "slideshow": {
                    "slide_type": "fragment"
                }
            },
            "outputs": [],
            "source": [
                "# Set up PyTest\n",
                "!pip install ipytest\n",
                "import ipytest\n",
                "ipytest.autoconfig()"
            ]
        },
        {
            "cell_type": "code",
            "execution_count": null,
            "metadata": {
                "slideshow": {
                    "slide_type": "fragment"
                }
            },
            "outputs": [],
            "source": [
                "# /tests/some_tests_file.py\n",
                "def test_str():\n",
                "    assert function_that_returns_text(\"You should see this text!\") == \"You should see this text!\"\n",
                "\n",
                "def test_int_as_str():\n",
                "    assert function_that_returns_text(\"15\") == \"15\"\n",
                "\n",
                "def test_int():\n",
                "    assert function_that_returns_text(15) == \"15\""
            ]
        },
        {
            "cell_type": "code",
            "execution_count": null,
            "metadata": {
                "slideshow": {
                    "slide_type": "fragment"
                }
            },
            "outputs": [],
            "source": [
                "ipytest.run('-vv')"
            ]
        },
        {
            "cell_type": "markdown",
            "metadata": {
                "slideshow": {
                    "slide_type": "slide"
                }
            },
            "source": [
                "### HTTP Responses\n",
                "\n",
                "Sometimes you'll need to verify that certain HTTP requests contain specific data, i.e. to verify certain third-party behavior. You can catch and expose HTTP request data with the following code."
            ]
        },
        {
            "cell_type": "code",
            "execution_count": null,
            "metadata": {},
            "outputs": [],
            "source": [
                "\n",
                "# /tests/conftest.py\n",
                "import logging\n",
                "import pytest\n",
                "\n",
                "@pytest.fixture\n",
                "def debug_http(scope=\"module\", autouse=False):\n",
                "    \"\"\"\n",
                "    Catches all out-going HTTP calls and prints them in the console.\n",
                "    Use `autouse=True` to automatically use it in every test which imports this conftest.py file.\n",
                "    \"\"\"\n",
                "    import http.client as http_client\n",
                "\n",
                "    http_client.HTTPConnection.debuglevel = 1\n",
                "    logging.basicConfig()\n",
                "    logging.getLogger(\"debug_http\").setLevel(logging.DEBUG)\n",
                "    requests_log = logging.getLogger(\"requests.packages.urllib3\")\n",
                "    requests_log.setLevel(logging.DEBUG)\n",
                "    requests_log.propagate = True"
            ]
        },
        {
            "cell_type": "code",
            "execution_count": null,
            "metadata": {},
            "outputs": [],
            "source": [
                "# /tests/some_tests_file.py\n",
                "%%ipytest -s -vvv -k test_http_logs_are_not_catched\n",
                "import requests\n",
                "\n",
                "def test_http_logs_are_not_catched(\n",
                "    capsys,\n",
                "):\n",
                "    requests.get(\"https://www.google.com/\")\n",
                "\n",
                "    out, err = capsys.readouterr()\n",
                "    print(out)\n",
                "    assert \"reply: 'HTTP/1.1 200 OK\\r\\n'\" not in out\n",
                "\n",
                "ipytest.run('-vv')"
            ]
        },
        {
            "cell_type": "code",
            "execution_count": null,
            "metadata": {},
            "outputs": [],
            "source": [
                "# /tests/some_tests_file.py\n",
                "%%ipytest -s -vvv -k test_http_logs_are_catched\n",
                "\n",
                "def test_http_logs_are_catched(\n",
                "    debug_http,\n",
                "    capsys,\n",
                "):\n",
                "    requests.get(\"https://www.google.com/\")\n",
                "\n",
                "    out, err = capsys.readouterr()\n",
                "    print(out)\n",
                "    assert \"reply: 'HTTP/1.1 200 OK\\r\\n'\" not in out\n",
                "\n",
                "ipytest.run('-vv')"
            ]
        },
        {
            "cell_type": "code",
            "execution_count": 6,
            "metadata": {
                "slideshow": {
                    "slide_type": "slide"
                }
            },
            "outputs": [
                {
                    "data": {
                        "text/html": [
                            "<style>pre { line-height: 125%; }\n",
                            "td.linenos .normal { color: inherit; background-color: transparent; padding-left: 5px; padding-right: 5px; }\n",
                            "span.linenos { color: inherit; background-color: transparent; padding-left: 5px; padding-right: 5px; }\n",
                            "td.linenos .special { color: #000000; background-color: #ffffc0; padding-left: 5px; padding-right: 5px; }\n",
                            "span.linenos.special { color: #000000; background-color: #ffffc0; padding-left: 5px; padding-right: 5px; }\n",
                            ".output_html .hll { background-color: #ffffcc }\n",
                            ".output_html { background: #f8f8f8; }\n",
                            ".output_html .c { color: #3D7B7B; font-style: italic } /* Comment */\n",
                            ".output_html .err { border: 1px solid #FF0000 } /* Error */\n",
                            ".output_html .k { color: #008000; font-weight: bold } /* Keyword */\n",
                            ".output_html .o { color: #666666 } /* Operator */\n",
                            ".output_html .ch { color: #3D7B7B; font-style: italic } /* Comment.Hashbang */\n",
                            ".output_html .cm { color: #3D7B7B; font-style: italic } /* Comment.Multiline */\n",
                            ".output_html .cp { color: #9C6500 } /* Comment.Preproc */\n",
                            ".output_html .cpf { color: #3D7B7B; font-style: italic } /* Comment.PreprocFile */\n",
                            ".output_html .c1 { color: #3D7B7B; font-style: italic } /* Comment.Single */\n",
                            ".output_html .cs { color: #3D7B7B; font-style: italic } /* Comment.Special */\n",
                            ".output_html .gd { color: #A00000 } /* Generic.Deleted */\n",
                            ".output_html .ge { font-style: italic } /* Generic.Emph */\n",
                            ".output_html .ges { font-weight: bold; font-style: italic } /* Generic.EmphStrong */\n",
                            ".output_html .gr { color: #E40000 } /* Generic.Error */\n",
                            ".output_html .gh { color: #000080; font-weight: bold } /* Generic.Heading */\n",
                            ".output_html .gi { color: #008400 } /* Generic.Inserted */\n",
                            ".output_html .go { color: #717171 } /* Generic.Output */\n",
                            ".output_html .gp { color: #000080; font-weight: bold } /* Generic.Prompt */\n",
                            ".output_html .gs { font-weight: bold } /* Generic.Strong */\n",
                            ".output_html .gu { color: #800080; font-weight: bold } /* Generic.Subheading */\n",
                            ".output_html .gt { color: #0044DD } /* Generic.Traceback */\n",
                            ".output_html .kc { color: #008000; font-weight: bold } /* Keyword.Constant */\n",
                            ".output_html .kd { color: #008000; font-weight: bold } /* Keyword.Declaration */\n",
                            ".output_html .kn { color: #008000; font-weight: bold } /* Keyword.Namespace */\n",
                            ".output_html .kp { color: #008000 } /* Keyword.Pseudo */\n",
                            ".output_html .kr { color: #008000; font-weight: bold } /* Keyword.Reserved */\n",
                            ".output_html .kt { color: #B00040 } /* Keyword.Type */\n",
                            ".output_html .m { color: #666666 } /* Literal.Number */\n",
                            ".output_html .s { color: #BA2121 } /* Literal.String */\n",
                            ".output_html .na { color: #687822 } /* Name.Attribute */\n",
                            ".output_html .nb { color: #008000 } /* Name.Builtin */\n",
                            ".output_html .nc { color: #0000FF; font-weight: bold } /* Name.Class */\n",
                            ".output_html .no { color: #880000 } /* Name.Constant */\n",
                            ".output_html .nd { color: #AA22FF } /* Name.Decorator */\n",
                            ".output_html .ni { color: #717171; font-weight: bold } /* Name.Entity */\n",
                            ".output_html .ne { color: #CB3F38; font-weight: bold } /* Name.Exception */\n",
                            ".output_html .nf { color: #0000FF } /* Name.Function */\n",
                            ".output_html .nl { color: #767600 } /* Name.Label */\n",
                            ".output_html .nn { color: #0000FF; font-weight: bold } /* Name.Namespace */\n",
                            ".output_html .nt { color: #008000; font-weight: bold } /* Name.Tag */\n",
                            ".output_html .nv { color: #19177C } /* Name.Variable */\n",
                            ".output_html .ow { color: #AA22FF; font-weight: bold } /* Operator.Word */\n",
                            ".output_html .w { color: #bbbbbb } /* Text.Whitespace */\n",
                            ".output_html .mb { color: #666666 } /* Literal.Number.Bin */\n",
                            ".output_html .mf { color: #666666 } /* Literal.Number.Float */\n",
                            ".output_html .mh { color: #666666 } /* Literal.Number.Hex */\n",
                            ".output_html .mi { color: #666666 } /* Literal.Number.Integer */\n",
                            ".output_html .mo { color: #666666 } /* Literal.Number.Oct */\n",
                            ".output_html .sa { color: #BA2121 } /* Literal.String.Affix */\n",
                            ".output_html .sb { color: #BA2121 } /* Literal.String.Backtick */\n",
                            ".output_html .sc { color: #BA2121 } /* Literal.String.Char */\n",
                            ".output_html .dl { color: #BA2121 } /* Literal.String.Delimiter */\n",
                            ".output_html .sd { color: #BA2121; font-style: italic } /* Literal.String.Doc */\n",
                            ".output_html .s2 { color: #BA2121 } /* Literal.String.Double */\n",
                            ".output_html .se { color: #AA5D1F; font-weight: bold } /* Literal.String.Escape */\n",
                            ".output_html .sh { color: #BA2121 } /* Literal.String.Heredoc */\n",
                            ".output_html .si { color: #A45A77; font-weight: bold } /* Literal.String.Interpol */\n",
                            ".output_html .sx { color: #008000 } /* Literal.String.Other */\n",
                            ".output_html .sr { color: #A45A77 } /* Literal.String.Regex */\n",
                            ".output_html .s1 { color: #BA2121 } /* Literal.String.Single */\n",
                            ".output_html .ss { color: #19177C } /* Literal.String.Symbol */\n",
                            ".output_html .bp { color: #008000 } /* Name.Builtin.Pseudo */\n",
                            ".output_html .fm { color: #0000FF } /* Name.Function.Magic */\n",
                            ".output_html .vc { color: #19177C } /* Name.Variable.Class */\n",
                            ".output_html .vg { color: #19177C } /* Name.Variable.Global */\n",
                            ".output_html .vi { color: #19177C } /* Name.Variable.Instance */\n",
                            ".output_html .vm { color: #19177C } /* Name.Variable.Magic */\n",
                            ".output_html .il { color: #666666 } /* Literal.Number.Integer.Long */</style><div class=\"highlight\"><pre><span></span><span class=\"kn\">import</span> <span class=\"nn\">pytest</span>\n",
                            "\n",
                            "\n",
                            "<span class=\"c1\"># TODO: Test fails, might need to move everything to actual tests/ folder and then execute/include from here?</span>\n",
                            "<span class=\"k\">def</span> <span class=\"nf\">test_should_have_access_to_global_variable</span><span class=\"p\">():</span>\n",
                            "    <span class=\"k\">assert</span> <span class=\"n\">pytest</span><span class=\"o\">.</span><span class=\"n\">GLOBAL_TEST_VARIABLE</span> <span class=\"o\">==</span> <span class=\"s2\">&quot;test global variable&quot;</span>\n",
                            "</pre></div>\n"
                        ],
                        "text/latex": [
                            "\\begin{Verbatim}[commandchars=\\\\\\{\\}]\n",
                            "\\PY{k+kn}{import} \\PY{n+nn}{pytest}\n",
                            "\n",
                            "\n",
                            "\\PY{c+c1}{\\PYZsh{} TODO: Test fails, might need to move everything to actual tests/ folder and then execute/include from here?}\n",
                            "\\PY{k}{def} \\PY{n+nf}{test\\PYZus{}should\\PYZus{}have\\PYZus{}access\\PYZus{}to\\PYZus{}global\\PYZus{}variable}\\PY{p}{(}\\PY{p}{)}\\PY{p}{:}\n",
                            "    \\PY{k}{assert} \\PY{n}{pytest}\\PY{o}{.}\\PY{n}{GLOBAL\\PYZus{}TEST\\PYZus{}VARIABLE} \\PY{o}{==} \\PY{l+s+s2}{\\PYZdq{}}\\PY{l+s+s2}{test global variable}\\PY{l+s+s2}{\\PYZdq{}}\n",
                            "\\end{Verbatim}\n"
                        ],
                        "text/plain": [
                            "import pytest\n",
                            "\n",
                            "\n",
                            "# TODO: Test fails, might need to move everything to actual tests/ folder and then execute/include from here?\n",
                            "def test_should_have_access_to_global_variable():\n",
                            "    assert pytest.GLOBAL_TEST_VARIABLE == \"test global variable\""
                        ]
                    },
                    "execution_count": 6,
                    "metadata": {},
                    "output_type": "execute_result"
                }
            ],
            "source": [
                "from IPython.display import Code\n",
                "\n",
                "Code(filename='tests/test_fixtures.py', language='python')"
            ]
        },
        {
            "cell_type": "code",
            "execution_count": 4,
            "metadata": {
                "slideshow": {
                    "slide_type": "fragment"
                }
            },
            "outputs": [
                {
                    "name": "stdout",
                    "output_type": "stream",
                    "text": [
                        "\u001b[1m============================= test session starts ==============================\u001b[0m\n",
                        "platform linux -- Python 3.12.3, pytest-8.2.2, pluggy-1.5.0\n",
                        "rootdir: /workspaces/python-testing-demo\n",
                        "configfile: pyproject.toml\n",
                        "plugins: anyio-4.4.0\n",
                        "collected 1 item                                                               \u001b[0m\n",
                        "\n",
                        "tests/test_fixtures.py \u001b[32m.\u001b[0m\u001b[32m                                                 [100%]\u001b[0m\n",
                        "\n",
                        "\u001b[32m============================== \u001b[32m\u001b[1m1 passed\u001b[0m\u001b[32m in 0.01s\u001b[0m\u001b[32m ===============================\u001b[0m\n"
                    ]
                }
            ],
            "source": [
                "# TODO: Do this for all\n",
                "!pytest tests/test_fixtures.py"
            ]
        },
        {
            "cell_type": "code",
            "execution_count": 11,
            "metadata": {
                "slideshow": {
                    "slide_type": "notes"
                }
            },
            "outputs": [
                {
                    "name": "stdout",
                    "output_type": "stream",
                    "text": [
                        "[NbConvertApp] Converting notebook demo copy.ipynb to slides\n",
                        "[NbConvertApp] Writing 291181 bytes to demo copy.slides.html\n",
                        "[NbConvertApp] Redirecting reveal.js requests to https://cdnjs.cloudflare.com/ajax/libs/reveal.js/3.5.0\n",
                        "Serving your slides at http://127.0.0.1:8000/demo copy.slides.html\n",
                        "Use Control-C to stop this server\n",
                        "^C\n",
                        "\n",
                        "Interrupted\n"
                    ]
                }
            ],
            "source": [
                "!jupyter nbconvert 'demo copy.ipynb' --to slides --post serve"
            ]
        }
    ],
    "metadata": {
        "kernelspec": {
            "display_name": ".venv",
            "language": "python",
            "name": "python3"
        },
        "language_info": {
            "codemirror_mode": {
                "name": "ipython",
                "version": 3
            },
            "file_extension": ".py",
            "mimetype": "text/x-python",
            "name": "python",
            "nbconvert_exporter": "python",
            "pygments_lexer": "ipython3",
            "version": "3.12.3"
        }
    },
    "nbformat": 4,
    "nbformat_minor": 2
}
